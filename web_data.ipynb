{
 "cells": [
  {
   "cell_type": "markdown",
   "id": "a032dcec-023a-480d-9046-77906afadad0",
   "metadata": {},
   "source": [
    "Importing libraries"
   ]
  },
  {
   "cell_type": "code",
   "execution_count": 1,
   "id": "6fe93ed3-8242-4967-8498-764942dded73",
   "metadata": {},
   "outputs": [],
   "source": [
    "import pandas as pd\n",
    "import time\n",
    "import json\n",
    "from selenium import webdriver\n",
    "from webdriver_manager.chrome import ChromeDriverManager\n",
    "from selenium.webdriver.common.by import By\n",
    "from selenium.webdriver.chrome.service import Service\n",
    "from selenium.webdriver.chrome.options import Options"
   ]
  },
  {
   "cell_type": "markdown",
   "id": "5d8feac0-a39a-4967-90aa-50d4c36b180e",
   "metadata": {},
   "source": [
    "Web scrapping with Selenium "
   ]
  },
  {
   "cell_type": "code",
   "execution_count": 2,
   "id": "fc37a21e-dec4-4f7d-989c-8068eb95804b",
   "metadata": {},
   "outputs": [],
   "source": [
    "# Create service\n",
    "webdriver_service = Service(ChromeDriverManager().install())\n",
    "# Create driver\n",
    "driver = webdriver.Chrome(service = webdriver_service)"
   ]
  },
  {
   "cell_type": "code",
   "execution_count": 3,
   "id": "792012b3-c558-431b-b53d-34fad1a0dc96",
   "metadata": {},
   "outputs": [],
   "source": [
    "# Go to the the main page of the site\n",
    "page_url = \"https://harchi.info/recipes\"\n",
    "driver.get(page_url)"
   ]
  },
  {
   "cell_type": "code",
   "execution_count": 4,
   "id": "abdd907d-9594-407d-a504-923a9c3e1ed1",
   "metadata": {},
   "outputs": [],
   "source": [
    "# # Click on Accept cookies\n",
    "#time.sleep(3)\n",
    "#driver.find_element(By.XPATH, '//button[text()=\"Yes, I am happy\"]').click()"
   ]
  },
  {
   "cell_type": "code",
   "execution_count": 5,
   "id": "25dc7994-acc1-4078-899d-8ac0c9a414de",
   "metadata": {},
   "outputs": [],
   "source": [
    "driver.execute_script(\"window.scrollTo(0,document.body.scrollHeight)\")\n",
    "time.sleep(5)"
   ]
  },
  {
   "cell_type": "code",
   "execution_count": 6,
   "id": "bd2f07eb-f165-432d-be02-f4c485e892a2",
   "metadata": {},
   "outputs": [],
   "source": [
    "#links to all pages\n",
    "pages = [page_url + '?page=' + str(i) for i in range(1, int(driver.find_element(By.CSS_SELECTOR, 'div.pagination div.pagination-pages-list span:nth-last-child(1) a').text)+1)]\n",
    "#pages"
   ]
  },
  {
   "cell_type": "markdown",
   "id": "3c7b5a47-6f9c-4451-8109-2ef6b45e530d",
   "metadata": {},
   "source": [
    "Recipe class"
   ]
  },
  {
   "cell_type": "code",
   "execution_count": 7,
   "id": "f56009e9-fe27-4df4-80df-78065a98f284",
   "metadata": {},
   "outputs": [],
   "source": [
    "class Recipe:\n",
    "    def __init__(self, name, type_dish, time_eat, ingredients, recipe_steps, recipe_link):\n",
    "        self.name = name\n",
    "        self.type_dish = type_dish\n",
    "        self.time_eat = time_eat\n",
    "        self.ingredients = ingredients\n",
    "        self.recipe_steps = recipe_steps\n",
    "        self.recipe_link = recipe_link"
   ]
  },
  {
   "cell_type": "markdown",
   "id": "c200fd51-5553-49e7-b535-945e34f4ffdb",
   "metadata": {},
   "source": [
    "Function for getting data from a page"
   ]
  },
  {
   "cell_type": "code",
   "execution_count": 8,
   "id": "c1a26f91-11a7-4a4e-a9c7-78e8ca2db4c4",
   "metadata": {},
   "outputs": [],
   "source": [
    "def getting_data(page):\n",
    "    try:\n",
    "        driver.get(page)\n",
    "        name = driver.find_element(By.CSS_SELECTOR, 'h1').text\n",
    "    except:\n",
    "        return 'none'\n",
    "    try:\n",
    "        type_dish = driver.find_element(By.XPATH, \"//label[contains(text(), 'Тип страви')]/following-sibling::span\").text\n",
    "    except:\n",
    "        type_dish = 'none'\n",
    "    try:\n",
    "        time_eat = driver.find_element(By.XPATH, \"//label[contains(text(), 'Час споживання')]/following-sibling::span\").text\n",
    "    except:\n",
    "        time_eat = 'none'\n",
    "    try:\n",
    "        ingredients = [el.text for el in driver.find_elements(By.CSS_SELECTOR, 'div.recipe-view-ingredients div.recipe-view-ingredient-block')]\n",
    "    except:\n",
    "        ingredients = 'none'\n",
    "    try:\n",
    "        recipe_steps = [el.text for el in driver.find_elements(By.CSS_SELECTOR, 'div.recipe-view-step')]\n",
    "    except:\n",
    "        recipe_steps = 'none'\n",
    "    recipe_link = page\n",
    "    return Recipe(name, type_dish, time_eat, ingredients, recipe_steps, recipe_link)"
   ]
  },
  {
   "cell_type": "code",
   "execution_count": 9,
   "id": "b2755986-710b-4750-bcb5-4a283f1d30dd",
   "metadata": {},
   "outputs": [],
   "source": [
    "#getting links to recipes\n",
    "result_link_list = []\n",
    "\n",
    "for p in pages:\n",
    "    driver.get(p)\n",
    "    result_link_list += [el.get_attribute(\"href\") for el in driver.find_elements(By.CSS_SELECTOR, 'div.recipe-list-item > a.button-green')]"
   ]
  },
  {
   "cell_type": "code",
   "execution_count": 10,
   "id": "a9574802-c1f8-4532-b899-dadaa106ed4d",
   "metadata": {},
   "outputs": [],
   "source": [
    "all_recipes = []\n",
    "for link in result_link_list:\n",
    "    all_recipes += [getting_data(link)]"
   ]
  },
  {
   "cell_type": "code",
   "execution_count": 11,
   "id": "7b47b4c9-800f-45cf-b8b8-a7494a1ce0c2",
   "metadata": {},
   "outputs": [
    {
     "data": {
      "text/plain": [
       "652"
      ]
     },
     "execution_count": 11,
     "metadata": {},
     "output_type": "execute_result"
    }
   ],
   "source": [
    "data = pd.DataFrame([rec.__dict__ for rec in all_recipes if rec!='none'])\n",
    "data.head()"
   ]
  },
  {
   "cell_type": "markdown",
   "id": "75fdb291-7ea3-45f1-8fa2-93e23ef0a6df",
   "metadata": {},
   "source": [
    "Saving data"
   ]
  },
  {
   "cell_type": "code",
   "execution_count": 15,
   "id": "83d078e8-ce7d-4881-bcb6-d4438f90ab84",
   "metadata": {},
   "outputs": [],
   "source": [
    "all_data.to_csv('recipes.csv', index=False)"
   ]
  }
 ],
 "metadata": {
  "kernelspec": {
   "display_name": "random_food",
   "language": "python",
   "name": "random_food"
  },
  "language_info": {
   "codemirror_mode": {
    "name": "ipython",
    "version": 3
   },
   "file_extension": ".py",
   "mimetype": "text/x-python",
   "name": "python",
   "nbconvert_exporter": "python",
   "pygments_lexer": "ipython3",
   "version": "3.8.10"
  }
 },
 "nbformat": 4,
 "nbformat_minor": 5
}
